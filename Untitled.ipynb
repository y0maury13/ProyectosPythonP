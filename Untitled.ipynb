{
 "cells": [
  {
   "cell_type": "code",
   "execution_count": 1,
   "id": "508979fd-981e-4994-a33a-9d6df895d106",
   "metadata": {},
   "outputs": [
    {
     "name": "stdout",
     "output_type": "stream",
     "text": [
      "pygame 2.5.2 (SDL 2.28.3, Python 3.10.9)\n",
      "Hello from the pygame community. https://www.pygame.org/contribute.html\n"
     ]
    }
   ],
   "source": [
    "import pygame\n",
    "import numpy as np"
   ]
  },
  {
   "cell_type": "code",
   "execution_count": 2,
   "id": "c23707fe-39e4-4bc4-9414-a88e00ec17c0",
   "metadata": {},
   "outputs": [
    {
     "name": "stderr",
     "output_type": "stream",
     "text": [
      "C:\\Users\\YOMAURY\\AppData\\Local\\Temp\\ipykernel_7836\\3531305737.py:37: UserWarning: You passed in an explicit save_count=50 which is being ignored in favor of frames=10.\n",
      "  ani = animation.FuncAnimation(fig, actualizar, fargs=(img, tabla, N),\n"
     ]
    },
    {
     "data": {
      "image/png": "[encoded data removed]",
      "text/plain": [
       "<Figure size 640x480 with 1 Axes>"
      ]
     },
     "metadata": {},
     "output_type": "display_data"
    }
   ],
   "source": [
    "import numpy as np\n",
    "import matplotlib.pyplot as plt\n",
    "import matplotlib.animation as animation\n",
    "\n",
    "def vecinos(x, y):\n",
    "    vec = [(x-1, y-1), (x-1, y), (x-1, y+1), (x, y-1), (x, y+1), (x+1, y-1), (x+1, y), (x+1, y+1)]\n",
    "    return [(i % N, j % N) for i, j in vec]\n",
    "\n",
    "def actualizar(frameNum, img, tabla, N):\n",
    "    nueva_tabla = np.copy(tabla)\n",
    "    for i in range(N):\n",
    "        for j in range(N):\n",
    "            total = int((tabla[i, (j-1)%N] + tabla[i, (j+1)%N] +\n",
    "                         tabla[(i-1)%N, j] + tabla[(i+1)%N, j] +\n",
    "                         tabla[(i-1)%N, (j-1)%N] + tabla[(i-1)%N, (j+1)%N] +\n",
    "                         tabla[(i+1)%N, (j-1)%N] + tabla[(i+1)%N, (j+1)%N]) / 255)\n",
    "            if tabla[i, j]  == ON:\n",
    "                if (total < 2) or (total > 3):\n",
    "                    nueva_tabla[i, j] = OFF\n",
    "            else:\n",
    "                if total == 3:\n",
    "                    nueva_tabla[i, j] = ON\n",
    "    img.set_data(nueva_tabla)\n",
    "    tabla[:] = nueva_tabla\n",
    "    return img,\n",
    "\n",
    "# Tamaño de la cuadrícula\n",
    "N = 100\n",
    "ON = 255\n",
    "OFF = 0\n",
    "\n",
    "# Estado inicial aleatorio\n",
    "tabla = np.random.choice([ON, OFF], N*N, p=[0.2, 0.8]).reshape(N, N)\n",
    "\n",
    "fig, ax = plt.subplots()\n",
    "img = ax.imshow(tabla, interpolation='nearest')\n",
    "ani = animation.FuncAnimation(fig, actualizar, fargs=(img, tabla, N),\n",
    "                              frames=10,\n",
    "                              interval=50,\n",
    "                              save_count=50)\n",
    "\n",
    "plt.show()"
   ]
  },
  {
   "cell_type": "code",
   "execution_count": null,
   "id": "00232d9e-843a-40f9-9cfc-a846576d8ac0",
   "metadata": {},
   "outputs": [],
   "source": []
  }
 ],
 "metadata": {
  "kernelspec": {
   "display_name": "Python 3 (ipykernel)",
   "language": "python",
   "name": "python3"
  },
  "language_info": {
   "codemirror_mode": {
    "name": "ipython",
    "version": 3
   },
   "file_extension": ".py",
   "mimetype": "text/x-python",
   "name": "python",
   "nbconvert_exporter": "python",
   "pygments_lexer": "ipython3",
   "version": "3.10.9"
  }
 },
 "nbformat": 4,
 "nbformat_minor": 5
}
