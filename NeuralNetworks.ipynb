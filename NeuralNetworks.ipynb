{
 "cells": [
  {
   "cell_type": "code",
   "execution_count": 1,
   "id": "356da667-2065-42ce-bddc-a1bfc93f70c6",
   "metadata": {},
   "outputs": [],
   "source": [
    "import numpy as np"
   ]
  },
  {
   "cell_type": "code",
   "execution_count": 2,
   "id": "b4e24cd9-ecbb-4951-a40d-380a2750bdf0",
   "metadata": {},
   "outputs": [
    {
     "data": {
      "text/plain": [
       "array([[0, 0],\n",
       "       [0, 1],\n",
       "       [1, 1],\n",
       "       [1, 0]])"
      ]
     },
     "execution_count": 2,
     "metadata": {},
     "output_type": "execute_result"
    }
   ],
   "source": [
    "input_value =np.array([[0,0],[0,1],[1,1],[1,0]])\n",
    "input_value.shape\n",
    "input_value"
   ]
  },
  {
   "cell_type": "code",
   "execution_count": 3,
   "id": "923118bc-b1a2-4fbe-9eb6-bc3550e721b5",
   "metadata": {},
   "outputs": [
    {
     "data": {
      "text/plain": [
       "(4, 1)"
      ]
     },
     "execution_count": 3,
     "metadata": {},
     "output_type": "execute_result"
    }
   ],
   "source": [
    "output =np.array([0,1,1,0])\n",
    "output =output.reshape(4,1)\n",
    "output.shape"
   ]
  },
  {
   "cell_type": "code",
   "execution_count": 5,
   "id": "2a543502-503e-4d75-abd0-0b350d1ecfff",
   "metadata": {},
   "outputs": [
    {
     "data": {
      "text/plain": [
       "array([[0, 1],\n",
       "       [1, 0]])"
      ]
     },
     "execution_count": 5,
     "metadata": {},
     "output_type": "execute_result"
    }
   ],
   "source": [
    "weights =np.array([[0,1],[1,0]])\n",
    "weights"
   ]
  },
  {
   "cell_type": "code",
   "execution_count": 10,
   "id": "dedbcbc0-2d94-4932-a083-52d447e9433c",
   "metadata": {},
   "outputs": [],
   "source": [
    "blas =0.3"
   ]
  },
  {
   "cell_type": "code",
   "execution_count": 11,
   "id": "aa8f7e65-770e-4c51-ab0d-688485909d2c",
   "metadata": {},
   "outputs": [],
   "source": [
    "def sigmoid_func(x):\n",
    "    return 1/(1 +np.exp(-x))"
   ]
  },
  {
   "cell_type": "code",
   "execution_count": 12,
   "id": "65b5a96c-4800-4c1d-8687-51fecb8d3895",
   "metadata": {},
   "outputs": [],
   "source": [
    "def der(x):\n",
    "    return sigmoid_func(x)* (1-sigmoid_func(x))"
   ]
  },
  {
   "cell_type": "code",
   "execution_count": null,
   "id": "7e74fbb0-7211-42f2-8941-e5cf5054d8e1",
   "metadata": {},
   "outputs": [],
   "source": [
    "for epochs in range(10000):\n",
    "    input_arr =input_value\n",
    "    weighted_sum =np.dot(input_arr, weights)+blas\n",
    "    first_output= sigmoid_func(weighted_sum)\n",
    "    \n",
    "    error= first_output -output\n",
    "    total_error =np.square(np.subtract(first_output,output)).mean()\n",
    "    \n",
    "    first_der=error\n",
    "    second_der=der(first_output)\n",
    "    derivative=first_der *second_der\n",
    "    \n",
    "    t_input=input_value.T\n",
    "    final_derivative =np.dot(t_input, derivative)\n",
    "    \n",
    "    weights=weights -0.05* final_derivative\n",
    "    \n",
    "    for i in derivative:\n",
    "        blas=blas -0.05*1\n",
    "        print(weights)\n",
    "        print(blas)"
   ]
  },
  {
   "cell_type": "code",
   "execution_count": 16,
   "id": "0a70e684-08d1-4354-b8a5-a1cdcf8a43c9",
   "metadata": {},
   "outputs": [
    {
     "name": "stdout",
     "output_type": "stream",
     "text": [
      "[0. 0.]\n"
     ]
    },
    {
     "name": "stderr",
     "output_type": "stream",
     "text": [
      "C:\\Users\\YOMAURY\\AppData\\Local\\Temp\\ipykernel_3416\\1910226245.py:2: RuntimeWarning: overflow encountered in exp\n",
      "  return 1/(1 +np.exp(-x))\n"
     ]
    }
   ],
   "source": [
    "pred = np.array([0,1])\n",
    "\n",
    "result = np.dot(pred, weights) + blas\n",
    "\n",
    "res = sigmoid_func(result)\n",
    "\n",
    "print(res)"
   ]
  },
  {
   "cell_type": "code",
   "execution_count": null,
   "id": "6d1185e8-ff8a-4474-9f90-7dea00c4e2c0",
   "metadata": {},
   "outputs": [],
   "source": []
  }
 ],
 "metadata": {
  "kernelspec": {
   "display_name": "Python 3 (ipykernel)",
   "language": "python",
   "name": "python3"
  },
  "language_info": {
   "codemirror_mode": {
    "name": "ipython",
    "version": 3
   },
   "file_extension": ".py",
   "mimetype": "text/x-python",
   "name": "python",
   "nbconvert_exporter": "python",
   "pygments_lexer": "ipython3",
   "version": "3.10.9"
  }
 },
 "nbformat": 4,
 "nbformat_minor": 5
}
